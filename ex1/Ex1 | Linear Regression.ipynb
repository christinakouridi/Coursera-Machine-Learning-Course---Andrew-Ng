{
 "cells": [
  {
   "cell_type": "markdown",
   "metadata": {},
   "source": [
    "<b><font size=3> Programming Exercise 1 | Linear Regression </b></font>"
   ]
  },
  {
   "cell_type": "markdown",
   "metadata": {},
   "source": [
    "In this exercise, we implement linear regression and get to see it work on data."
   ]
  },
  {
   "cell_type": "code",
   "execution_count": 656,
   "metadata": {},
   "outputs": [],
   "source": [
    "import os \n",
    "import numpy as np\n",
    "\n",
    "from matplotlib import pyplot as plt\n",
    "from mpl_toolkits.mplot3d import axes3d, Axes3D\n",
    "from matplotlib import cm\n",
    "%matplotlib inline"
   ]
  },
  {
   "cell_type": "markdown",
   "metadata": {},
   "source": [
    "<b> 1 | Warm up exercise </b>"
   ]
  },
  {
   "cell_type": "code",
   "execution_count": 648,
   "metadata": {},
   "outputs": [],
   "source": [
    "def warmUpExercise():\n",
    "    return (np.identity(5))"
   ]
  },
  {
   "cell_type": "markdown",
   "metadata": {},
   "source": [
    "<b> 2 | Linear Regression with one variable </b>"
   ]
  },
  {
   "cell_type": "code",
   "execution_count": 658,
   "metadata": {},
   "outputs": [
    {
     "data": {
      "text/plain": [
       "(97, 2)"
      ]
     },
     "execution_count": 658,
     "metadata": {},
     "output_type": "execute_result"
    }
   ],
   "source": [
    "datafile = 'data/ex1data1.txt'",
    "\n",
    "data = np.loadtxt(datafile, delimiter=',')\n",
    "data.shape"
   ]
  },
  {
   "cell_type": "code",
   "execution_count": 650,
   "metadata": {},
   "outputs": [],
   "source": [
    "Y = data[:,1]\n",
    "X = data[:,0]"
   ]
  },
  {
   "cell_type": "markdown",
   "metadata": {},
   "source": [
    "<b> 2.1 | Plotting the Data </b>"
   ]
  },
  {
   "cell_type": "code",
   "execution_count": 651,
   "metadata": {},
   "outputs": [
    {
     "data": {
      "text/plain": [
       "<matplotlib.text.Text at 0x12b193048>"
      ]
     },
     "execution_count": 651,
     "metadata": {},
     "output_type": "execute_result"
    },
    {
     "data": {
      "image/png": "[encoded data removed]",
      "text/plain": [
       "<matplotlib.figure.Figure at 0x12bfbf9e8>"
      ]
     },
     "metadata": {},
     "output_type": "display_data"
    }
   ],
   "source": [
    "#plot data\n",
    "plt.figure(figsize=(10,8))\n",
    "plt.scatter(X, Y, marker = 'x', c = 'r', s = 80)\n",
    "plt.xlabel(\"Population of City in 10,000s\")\n",
    "plt.ylabel(\"Profit in $10,000s\")"
   ]
  },
  {
   "cell_type": "markdown",
   "metadata": {},
   "source": [
    "<b> 2.2 | Gradient Descent </b>"
   ]
  },
  {
   "cell_type": "code",
   "execution_count": 652,
   "metadata": {},
   "outputs": [],
   "source": [
    "class LinearModel:\n",
    "    def __init__(self, alpha=0.01, epochs=1500):\n",
    "        self._alpha = alpha\n",
    "        self._epochs = epochs\n",
    "        \n",
    "        self.cost = []\n",
    "        self.theta = [] \n",
    "        \n",
    "        self.means = 0\n",
    "        self.stddevs = 0\n",
    "\n",
    "        self._current_epoch = 0\n",
    "        self._converged = False\n",
    "    \n",
    "        self.means = 0\n",
    "        self.stddevs = 0\n",
    "      \n",
    "    def _X_matrix(self,Xs):\n",
    "        return np.column_stack((np.ones(len(Xs)), Xs))\n",
    "    \n",
    "    def _sigmoid(self,Z):\n",
    "        return 1/(1+np.exp(-Z))\n",
    "    \n",
    "    def _compute_cost(self,H,Ys):\n",
    "        m = Ys.shape[0]\n",
    "        J = (1/(2*m))*np.sum(np.square(H-Ys))\n",
    "        return J\n",
    "    \n",
    "    def predict(self, x):\n",
    "        return np.dot(x, self.theta)\n",
    "    \n",
    "    def gradient_descent(self,Xs,Ys):   \n",
    "        #initialisation\n",
    "        Xs = self._X_matrix(Xs)\n",
    "        self.theta = np.zeros(Xs.shape[1])\n",
    "        gd_theta = np.ones(Xs.shape[1])\n",
    "\n",
    "        # continue until convergence\n",
    "        while (self._current_epoch < self._epochs) and (max(abs(gd_theta)) >=.01):\n",
    "            # prediction\n",
    "            H = np.dot(Xs,self.theta)\n",
    "          \n",
    "            #update thetas\n",
    "            gd_theta = np.dot(Xs.T, (H-Ys))/(Xs.shape[0])\n",
    "            self.theta = self.theta - self._alpha*gd_theta\n",
    "            \n",
    "            #compute and record cost function\n",
    "            self.cost.append([self._current_epoch+1,self._compute_cost(H,Ys)])\n",
    "            self._current_epoch += 1\n",
    "            \n",
    "        self._converged = True\n",
    "        return self._converged"
   ]
  },
  {
   "cell_type": "code",
   "execution_count": 655,
   "metadata": {},
   "outputs": [
    {
     "name": "stdout",
     "output_type": "stream",
     "text": [
      "\n",
      "\n",
      "Trained loss: 4.483411453374869\n",
      "Training epochs: 1500\n",
      "Thetas: [-3.63029144  1.16636235]\n",
      "\n",
      "\n"
     ]
    },
    {
     "data": {
      "image/png": "[encoded data removed]",
      "text/plain": [
       "<matplotlib.figure.Figure at 0x12bf00978>"
      ]
     },
     "metadata": {},
     "output_type": "display_data"
    }
   ],
   "source": [
    "m = LinearModel()\n",
    "m.gradient_descent(X,Y)\n",
    "    \n",
    "\n",
    "print('\\n')\n",
    "print('Trained loss:', m.cost[-1][1])\n",
    "print('Training epochs:', m.cost[-1][0])\n",
    "print('Thetas:',m.theta)\n",
    "print('\\n')\n",
    "    \n",
    "plt.plot(np.array(m.cost)[:,0],np.array(m.cost)[:,1],color='red')\n",
    "plt.xlabel('Number of iterations')\n",
    "plt.ylabel(r'$J(\\theta)$')\n",
    "plt.show()    "
   ]
  },
  {
   "cell_type": "code",
   "execution_count": 618,
   "metadata": {
    "scrolled": true
   },
   "outputs": [
    {
     "name": "stdout",
     "output_type": "stream",
     "text": [
      "For population = 35,000, we predict a profit of $4,519.77\n",
      "For population = 70,000, we predict a profit of $45,342.45\n"
     ]
    }
   ],
   "source": [
    "x1 = np.array([1,3.5])\n",
    "x2 = np.array([1,7])\n",
    "\n",
    "predict1 = m.predict(x1)\n",
    "predict2 = m.predict(x2)\n",
    "\n",
    "print(\"For population = 35,000, we predict a profit of ${:,.2f}\".format(predict1*10000))\n",
    "print(\"For population = 70,000, we predict a profit of ${:,.2f}\".format(predict2*10000))"
   ]
  },
  {
   "cell_type": "markdown",
   "metadata": {},
   "source": [
    "<b> 2.3 | Debugging </b>"
   ]
  },
  {
   "cell_type": "code",
   "execution_count": 619,
   "metadata": {},
   "outputs": [
    {
     "data": {
      "text/plain": [
       "<matplotlib.legend.Legend at 0x12bf6ce80>"
      ]
     },
     "execution_count": 619,
     "metadata": {},
     "output_type": "execute_result"
    },
    {
     "data": {
      "image/png": "[encoded data removed]",
      "text/plain": [
       "<matplotlib.figure.Figure at 0x12be2b0b8>"
      ]
     },
     "metadata": {},
     "output_type": "display_data"
    }
   ],
   "source": [
    "#plot data\n",
    "plt.figure(figsize=(10,8))\n",
    "plt.scatter(X, Y, marker = 'x', c = 'r', s = 80, label = 'Training data')\n",
    "plt.xlabel(\"Population of City in 10,000s\")\n",
    "plt.ylabel(\"Profit in $10,000s\")\n",
    "\n",
    "#plot line\n",
    "l_reg =(m.theta[0]+m.theta[1]*X)\n",
    "plt.plot(X, l_reg, c='b', label = 'Linear regression')\n",
    "plt.legend(loc = 4)"
   ]
  },
  {
   "cell_type": "markdown",
   "metadata": {},
   "source": [
    "<b> 3 | Linear regression with multiple variables </b>"
   ]
  },
  {
   "cell_type": "code",
   "execution_count": 623,
   "metadata": {},
   "outputs": [],
   "source": [
    "os.chdir('/Users/christinakouride/Documents/Python/Learning/Andrew Ng - ML course/ex1')\n",
    "\n",
    "data2 = np.loadtxt('ex1data2.txt', delimiter=',')"
   ]
  },
  {
   "cell_type": "code",
   "execution_count": 624,
   "metadata": {},
   "outputs": [],
   "source": [
    "X1 = data2[:,0] #Size of house (in square feet)\n",
    "X2 = data2[:,1] #Number of bedrooms\n",
    "X = np.c_[X1,X2]\n",
    "\n",
    "Y  = data2[:,2] #Price"
   ]
  },
  {
   "cell_type": "markdown",
   "metadata": {},
   "source": [
    "<b> 3.1 | Feature Normalization </b>"
   ]
  },
  {
   "cell_type": "code",
   "execution_count": 625,
   "metadata": {},
   "outputs": [],
   "source": [
    "def featureNormalize(Xs):\n",
    "    n_features = Xs.shape[1]\n",
    "\n",
    "    mu = np.array([np.mean(Xs[:,i]) for i in range(n_features)])\n",
    "    sigma = np.array([np.std(Xs[:,i]) for i in range(n_features)])\n",
    "    \n",
    "    Xs = (Xs - mu)/sigma\n",
    "    return Xs, mu, sigma"
   ]
  },
  {
   "cell_type": "code",
   "execution_count": 629,
   "metadata": {},
   "outputs": [
    {
     "name": "stdout",
     "output_type": "stream",
     "text": [
      "Mean:  [2000.68085106    3.17021277]\n",
      "Standard deviation:  [7.86202619e+02 7.52842809e-01]\n"
     ]
    }
   ],
   "source": [
    "#scale features and set them to zero mean\n",
    "Xnorm, mu, sigma = featureNormalize(X)\n",
    "\n",
    "print(\"Mean: \",mu)\n",
    "print(\"Standard deviation: \",sigma)"
   ]
  },
  {
   "cell_type": "markdown",
   "metadata": {},
   "source": [
    "<b> 3.2 | Gradient Descent </b>"
   ]
  },
  {
   "cell_type": "code",
   "execution_count": 643,
   "metadata": {},
   "outputs": [
    {
     "data": {
      "text/plain": [
       "<matplotlib.legend.Legend at 0x12b07b710>"
      ]
     },
     "execution_count": 643,
     "metadata": {},
     "output_type": "execute_result"
    },
    {
     "data": {
      "image/png": "[encoded data removed]",
      "text/plain": [
       "<matplotlib.figure.Figure at 0x12b07be10>"
      ]
     },
     "metadata": {},
     "output_type": "display_data"
    }
   ],
   "source": [
    "alphas = [0.01, 0.03, 0.1, 0.3, 0.9]\n",
    "\n",
    "for alpha in alphas:\n",
    "    m = LinearModel(alpha, 50)\n",
    "    m.gradient_descent(Xnorm,Y)\n",
    "    plt.plot(np.array(m.cost)[:,0],np.array(m.cost)[:,1],label='learning rate={0}'.format(alpha))\n",
    "    \n",
    "plt.ylabel(r'$J(\\theta)$')\n",
    "plt.xlabel('Number of Iterations')\n",
    "plt.legend(loc=1, frameon=False)"
   ]
  },
  {
   "cell_type": "code",
   "execution_count": 641,
   "metadata": {},
   "outputs": [
    {
     "name": "stdout",
     "output_type": "stream",
     "text": [
      "Optimal alpha:  0.9\n",
      "Theta at optimal alpha:  [340412.65957447 109447.78702878  -6578.34541324]\n"
     ]
    }
   ],
   "source": [
    "print(\"Optimal alpha: \", alphas[-1])\n",
    "print(\"Theta at optimal alpha: \",m.theta)\n",
    "x = np.array([1650,3])"
   ]
  },
  {
   "cell_type": "code",
   "execution_count": 634,
   "metadata": {},
   "outputs": [],
   "source": [
    "xnorm = (x-mu)/sigma\n",
    "xnorm = np.hstack((1,xnorm))"
   ]
  },
  {
   "cell_type": "code",
   "execution_count": 635,
   "metadata": {},
   "outputs": [
    {
     "name": "stdout",
     "output_type": "stream",
     "text": [
      "A 1650 sq-ft 3 br house will cost $293,081.47\n"
     ]
    }
   ],
   "source": [
    "ypred = np.dot(xnorm, m.theta)\n",
    "\n",
    "print(\"A 1650 sq-ft 3 br house will cost ${:,.2f}\".format(ypred))"
   ]
  }
 ],
 "metadata": {
  "kernelspec": {
   "display_name": "Python 3",
   "language": "python",
   "name": "python3"
  },
  "language_info": {
   "codemirror_mode": {
    "name": "ipython",
    "version": 3
   },
   "file_extension": ".py",
   "mimetype": "text/x-python",
   "name": "python",
   "nbconvert_exporter": "python",
   "pygments_lexer": "ipython3",
   "version": "3.6.4"
  }
 },
 "nbformat": 4,
 "nbformat_minor": 2
}
